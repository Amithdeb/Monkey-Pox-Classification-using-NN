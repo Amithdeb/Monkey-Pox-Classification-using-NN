{
  "nbformat": 4,
  "nbformat_minor": 0,
  "metadata": {
    "colab": {
      "provenance": []
    },
    "kernelspec": {
      "name": "python3",
      "display_name": "Python 3"
    },
    "language_info": {
      "name": "python"
    }
  },
  "cells": [
    {
      "cell_type": "code",
      "execution_count": 1,
      "metadata": {
        "id": "JYR_gTRPGU18"
      },
      "outputs": [],
      "source": [
        "from keras.models import Sequential\n",
        "from keras.layers import Dense, Input\n",
        "from keras.optimizers import SGD\n",
        "from keras.datasets import mnist\n",
        "from keras.utils import to_categorical\n",
        "from keras.utils import plot_model\n",
        "import skimage\n",
        "from skimage.io import imshow\n",
        "import matplotlib.pyplot as plt\n",
        "import numpy as np\n",
        "import pandas as pd\n"
      ]
    },
    {
      "cell_type": "code",
      "source": [
        "from google.colab import drive\n",
        "drive.mount('/content/drive/')"
      ],
      "metadata": {
        "colab": {
          "base_uri": "https://localhost:8080/"
        },
        "id": "EwxZrgPHKOmr",
        "outputId": "add36ff2-e4d4-4b1c-fe53-554cbeb0f581"
      },
      "execution_count": 2,
      "outputs": [
        {
          "output_type": "stream",
          "name": "stdout",
          "text": [
            "Mounted at /content/drive/\n"
          ]
        }
      ]
    },
    {
      "cell_type": "code",
      "source": [
        "import os\n",
        "import numpy as np\n",
        "import cv2\n",
        "from sklearn.model_selection import train_test_split\n",
        "from tensorflow.keras import layers, models"
      ],
      "metadata": {
        "id": "5ntf7f7ov0mY"
      },
      "execution_count": 3,
      "outputs": []
    },
    {
      "cell_type": "code",
      "source": [
        "# LOAD IMAGE-DATA\n",
        "image_dir = '/content/drive/MyDrive/Monkey Pox'\n",
        "images = []\n",
        "labels = []"
      ],
      "metadata": {
        "id": "JoTy1ZZ-wDzX"
      },
      "execution_count": 4,
      "outputs": []
    },
    {
      "cell_type": "code",
      "source": [
        "for img_file in os.listdir(image_dir):\n",
        "    img_path = os.path.join(image_dir, img_file)\n",
        "    image = cv2.imread(img_path)\n",
        "    image = cv2.resize(image, (224, 224))\n",
        "    images.append(image)\n",
        "# BINARY CLASSIFICATION\n",
        "    if 'M' in img_file:\n",
        "        labels.append(0)\n",
        "    elif 'NM' in img_file:\n",
        "        labels.append(1)"
      ],
      "metadata": {
        "id": "84PiKY0xwIqf"
      },
      "execution_count": 5,
      "outputs": []
    },
    {
      "cell_type": "code",
      "source": [
        "# FEATURE & TARGET EXTRACT\n",
        "X = np.array(images)\n",
        "y = np.array(labels)\n",
        "\n",
        "if len(X) < len(y):\n",
        "    y = y[:len(X)]\n",
        "elif len(y) < len(X):\n",
        "    X = X[:len(y)]"
      ],
      "metadata": {
        "id": "RsPJrNJhwP2G"
      },
      "execution_count": 6,
      "outputs": []
    },
    {
      "cell_type": "code",
      "source": [
        "X_train, X_test, y_train, y_test = train_test_split(X, y, test_size=0.2, random_state=42)"
      ],
      "metadata": {
        "id": "WoOjhszwwVkG"
      },
      "execution_count": 7,
      "outputs": []
    },
    {
      "cell_type": "code",
      "source": [
        "model = models.Sequential([\n",
        "    layers.Conv2D(32, (3, 3), activation='relu', input_shape=(224, 224, 3)),\n",
        "    layers.MaxPooling2D((2, 2)),\n",
        "    layers.Conv2D(64, (3, 3), activation='relu'),\n",
        "    layers.MaxPooling2D((2, 2)),\n",
        "    layers.Conv2D(64, (3, 3), activation='relu'),\n",
        "    layers.Flatten(),\n",
        "    layers.Dense(64, activation='relu'),\n",
        "    layers.Dense(1, activation='sigmoid')\n",
        "])\n"
      ],
      "metadata": {
        "id": "1W9cwE9swb3f"
      },
      "execution_count": 8,
      "outputs": []
    },
    {
      "cell_type": "code",
      "source": [
        "\n",
        "model.compile(optimizer='adam',\n",
        "              loss='binary_crossentropy',\n",
        "              metrics=['accuracy'])\n"
      ],
      "metadata": {
        "id": "lFUwjTNiwf8d"
      },
      "execution_count": 9,
      "outputs": []
    },
    {
      "cell_type": "code",
      "source": [
        "model.fit(X_train, y_train, epochs=10, batch_size=32, validation_data=(X_test, y_test))"
      ],
      "metadata": {
        "colab": {
          "base_uri": "https://localhost:8080/"
        },
        "id": "OXtjvcnKwic-",
        "outputId": "5d3e187c-a4ed-4fb5-fb1e-6d2388ebb826"
      },
      "execution_count": 10,
      "outputs": [
        {
          "output_type": "stream",
          "name": "stdout",
          "text": [
            "Epoch 1/10\n",
            "6/6 [==============================] - 31s 5s/step - loss: 0.0214 - accuracy: 0.9890 - val_loss: 0.0000e+00 - val_accuracy: 1.0000\n",
            "Epoch 2/10\n",
            "6/6 [==============================] - 20s 3s/step - loss: 0.0000e+00 - accuracy: 1.0000 - val_loss: 0.0000e+00 - val_accuracy: 1.0000\n",
            "Epoch 3/10\n",
            "6/6 [==============================] - 21s 3s/step - loss: 0.0000e+00 - accuracy: 1.0000 - val_loss: 0.0000e+00 - val_accuracy: 1.0000\n",
            "Epoch 4/10\n",
            "6/6 [==============================] - 19s 3s/step - loss: 0.0000e+00 - accuracy: 1.0000 - val_loss: 0.0000e+00 - val_accuracy: 1.0000\n",
            "Epoch 5/10\n",
            "6/6 [==============================] - 21s 4s/step - loss: 0.0000e+00 - accuracy: 1.0000 - val_loss: 0.0000e+00 - val_accuracy: 1.0000\n",
            "Epoch 6/10\n",
            "6/6 [==============================] - 19s 3s/step - loss: 0.0000e+00 - accuracy: 1.0000 - val_loss: 0.0000e+00 - val_accuracy: 1.0000\n",
            "Epoch 7/10\n",
            "6/6 [==============================] - 23s 4s/step - loss: 0.0000e+00 - accuracy: 1.0000 - val_loss: 0.0000e+00 - val_accuracy: 1.0000\n",
            "Epoch 8/10\n",
            "6/6 [==============================] - 19s 3s/step - loss: 0.0000e+00 - accuracy: 1.0000 - val_loss: 0.0000e+00 - val_accuracy: 1.0000\n",
            "Epoch 9/10\n",
            "6/6 [==============================] - 19s 3s/step - loss: 0.0000e+00 - accuracy: 1.0000 - val_loss: 0.0000e+00 - val_accuracy: 1.0000\n",
            "Epoch 10/10\n",
            "6/6 [==============================] - 20s 3s/step - loss: 0.0000e+00 - accuracy: 1.0000 - val_loss: 0.0000e+00 - val_accuracy: 1.0000\n"
          ]
        },
        {
          "output_type": "execute_result",
          "data": {
            "text/plain": [
              "<keras.src.callbacks.History at 0x79835db031f0>"
            ]
          },
          "metadata": {},
          "execution_count": 10
        }
      ]
    },
    {
      "cell_type": "code",
      "source": [
        "test_loss, test_acc = model.evaluate(X_test, y_test)\n",
        "print('Test accuracy:', test_acc)"
      ],
      "metadata": {
        "colab": {
          "base_uri": "https://localhost:8080/"
        },
        "id": "MoueB20NxF24",
        "outputId": "23e3a2f5-4129-46b6-f37b-ab025176383f"
      },
      "execution_count": 11,
      "outputs": [
        {
          "output_type": "stream",
          "name": "stdout",
          "text": [
            "2/2 [==============================] - 1s 331ms/step - loss: 0.0000e+00 - accuracy: 1.0000\n",
            "Test accuracy: 1.0\n"
          ]
        }
      ]
    },
    {
      "cell_type": "markdown",
      "source": [
        "DISCUSSION :- In this assignment the neural network algorithm is applied on a monkey pox dataset. Here, Binary classification is done by the file name of images. Here, we get the 100% accuracy.\n",
        "\n",
        "Strength of NN:- Neural networks can adapt and learn from new data, making them suitable for tasks where the underlying data distribution may change over time. Neural networks are capable of learning intricate patterns and relationships in data, making them suitable for tasks such as image recognition, natural language processing, and speech recognition.\n",
        "\n",
        "Weakness of NN:- However, they require careful tuning of hyperparameters, substantial computational resources, and large amounts of labeled data. Interpretability can be a challenge due to their black box nature, and they're prone to overfitting if not properly regularized.\n",
        "\n",
        "\n",
        "\n",
        "\n",
        "\n",
        "                                                         THE  END"
      ],
      "metadata": {
        "id": "aJImgWKjyMY2"
      }
    }
  ]
}